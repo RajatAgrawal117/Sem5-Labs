{
 "cells": [
  {
   "cell_type": "code",
   "execution_count": 1,
   "metadata": {},
   "outputs": [],
   "source": [
    "import pandas as pd\n",
    "import numpy as np\n",
    "from sklearn.cluster import KMeans\n",
    "import matplotlib.pyplot as plt\n",
    "import seaborn as sns\n",
    "\n",
    "# Load the dataset\n",
    "df = pd.read_csv(\"online_retail.csv\", encoding=\"ISO-8859-1\")"
   ]
  },
  {
   "cell_type": "markdown",
   "metadata": {},
   "source": [
    "2. Data Cleaning\n",
    "Drop rows with missing CustomerID"
   ]
  },
  {
   "cell_type": "code",
   "execution_count": 2,
   "metadata": {},
   "outputs": [],
   "source": [
    "df = df.dropna(subset=[\"CustomerID\"])\n",
    "\n",
    "# Convert InvoiceDate to datetime\n",
    "df[\"InvoiceDate\"] = pd.to_datetime(df[\"InvoiceDate\"])\n",
    "\n",
    "# Create TotalAmountSpent (Quantity * UnitPrice)\n",
    "df[\"TotalAmountSpent\"] = df[\"Quantity\"] * df[\"UnitPrice\"]\n",
    "\n",
    "# Group by CustomerID to create the required features for segmentation\n",
    "customer_df = df.groupby(\"CustomerID\").agg({\n",
    "    \"TotalAmountSpent\": \"sum\",\n",
    "    \"InvoiceDate\": \"max\",\n",
    "    \"Quantity\": \"sum\"\n",
    "}).reset_index()\n"
   ]
  },
  {
   "cell_type": "markdown",
   "metadata": {},
   "source": [
    "Calculating Average Purchase Value and handling cases where Quantity is zero"
   ]
  },
  {
   "cell_type": "code",
   "execution_count": 3,
   "metadata": {},
   "outputs": [],
   "source": [
    "customer_df[\"AveragePurchaseValue\"] = np.where(customer_df[\"Quantity\"] > 0,\n",
    "                                               customer_df[\"TotalAmountSpent\"] /\n",
    "                                               customer_df[\"Quantity\"],\n",
    "                                               0)\n",
    "\n",
    "# Convert InvoiceDate to the number of days since last purchase\n",
    "current_date = pd.to_datetime(\"today\")\n",
    "customer_df[\"DaysSinceLastPurchase\"] = (\n",
    "    current_date - customer_df[\"InvoiceDate\"]).dt.days\n",
    "\n",
    "# Handle missing values by imputing the mean (you can also use median if preferred)\n",
    "customer_df[\"AveragePurchaseValue\"].fillna(\n",
    "    customer_df[\"AveragePurchaseValue\"].mean(), inplace=True)\n",
    "\n",
    "# Replace any infinite values that might have occurred\n",
    "customer_df.replace([np.inf, -np.inf], np.nan, inplace=True)\n",
    "customer_df.dropna(subset=[\"AveragePurchaseValue\"], inplace=True)\n"
   ]
  },
  {
   "cell_type": "markdown",
   "metadata": {},
   "source": [
    "3. Descriptive Statistics\n",
    "Calculating basic statistics"
   ]
  },
  {
   "cell_type": "code",
   "execution_count": 4,
   "metadata": {},
   "outputs": [],
   "source": [
    "mean_spent = customer_df[\"TotalAmountSpent\"].mean()\n",
    "median_spent = customer_df[\"TotalAmountSpent\"].median()\n",
    "std_spent = customer_df[\"TotalAmountSpent\"].std()\n",
    "\n",
    "mean_items = customer_df[\"Quantity\"].mean()\n",
    "median_items = customer_df[\"Quantity\"].median()\n",
    "std_items = customer_df[\"Quantity\"].std()"
   ]
  }
 ],
 "metadata": {
  "kernelspec": {
   "display_name": "Python 3",
   "language": "python",
   "name": "python3"
  },
  "language_info": {
   "codemirror_mode": {
    "name": "ipython",
    "version": 3
   },
   "file_extension": ".py",
   "mimetype": "text/x-python",
   "name": "python",
   "nbconvert_exporter": "python",
   "pygments_lexer": "ipython3",
   "version": "3.11.9"
  }
 },
 "nbformat": 4,
 "nbformat_minor": 2
}
