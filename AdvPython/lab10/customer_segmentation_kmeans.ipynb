{
 "cells": [
  {
   "cell_type": "markdown",
   "id": "4f2ff8d6",
   "metadata": {},
   "source": [
    "# Customer Segmentation using K-Means Clustering"
   ]
  },
  {
   "cell_type": "markdown",
   "id": "11a5b3a9",
   "metadata": {},
   "source": [
    "This notebook performs customer segmentation using K-Means clustering. It also calculates and saves summary statistics and visualizes the segmentation."
   ]
  },
  {
   "cell_type": "code",
   "execution_count": null,
   "id": "60e9116d",
   "metadata": {},
   "outputs": [],
   "source": [
    "\n",
    "# Importing libraries\n",
    "import pandas as pd\n",
    "import numpy as np\n",
    "from sklearn.cluster import KMeans\n",
    "import matplotlib.pyplot as plt\n",
    "import seaborn as sns\n",
    "\n",
    "# Load the dataset\n",
    "df = pd.read_csv(\"online_retail.csv\", encoding=\"ISO-8859-1\")\n",
    "\n",
    "# 2. Data Cleaning\n",
    "# Drop rows with missing CustomerID\n",
    "df = df.dropna(subset=[\"CustomerID\"])\n",
    "\n",
    "# Convert InvoiceDate to datetime\n",
    "df[\"InvoiceDate\"] = pd.to_datetime(df[\"InvoiceDate\"])\n",
    "\n",
    "# Create TotalAmountSpent (Quantity * UnitPrice)\n",
    "df[\"TotalAmountSpent\"] = df[\"Quantity\"] * df[\"UnitPrice\"]\n",
    "\n",
    "# Group by CustomerID to create the required features for segmentation\n",
    "customer_df = df.groupby(\"CustomerID\").agg({\n",
    "    \"TotalAmountSpent\": \"sum\",\n",
    "    \"InvoiceDate\": \"max\",\n",
    "    \"Quantity\": \"sum\"\n",
    "}).reset_index()\n",
    "\n",
    "# Calculate Average Purchase Value, but handle cases where Quantity is zero to avoid division by zero\n",
    "customer_df[\"AveragePurchaseValue\"] = np.where(customer_df[\"Quantity\"] > 0, \n",
    "                                               customer_df[\"TotalAmountSpent\"] / customer_df[\"Quantity\"], \n",
    "                                               0)\n",
    "\n",
    "# Convert InvoiceDate to the number of days since last purchase\n",
    "current_date = pd.to_datetime(\"today\")\n",
    "customer_df[\"DaysSinceLastPurchase\"] = (current_date - customer_df[\"InvoiceDate\"]).dt.days\n",
    "\n",
    "# Handle missing values by imputing the mean (you can also use median if preferred)\n",
    "customer_df[\"AveragePurchaseValue\"].fillna(customer_df[\"AveragePurchaseValue\"].mean(), inplace=True)\n",
    "\n",
    "# Replace any infinite values that might have occurred\n",
    "customer_df.replace([np.inf, -np.inf], np.nan, inplace=True)\n",
    "customer_df.dropna(subset=[\"AveragePurchaseValue\"], inplace=True)\n"
   ]
  },
  {
   "cell_type": "markdown",
   "id": "bba448fd",
   "metadata": {},
   "source": [
    "### 3. Descriptive Statistics"
   ]
  },
  {
   "cell_type": "code",
   "execution_count": null,
   "id": "f7490bab",
   "metadata": {},
   "outputs": [],
   "source": [
    "\n",
    "# 3. Descriptive Statistics\n",
    "# Calculating basic statistics\n",
    "mean_spent = customer_df[\"TotalAmountSpent\"].mean()\n",
    "median_spent = customer_df[\"TotalAmountSpent\"].median()\n",
    "std_spent = customer_df[\"TotalAmountSpent\"].std()\n",
    "\n",
    "mean_items = customer_df[\"Quantity\"].mean()\n",
    "median_items = customer_df[\"Quantity\"].median()\n",
    "std_items = customer_df[\"Quantity\"].std()\n",
    "\n",
    "# Save the statistics to a file\n",
    "with open(\"customer_segmentation_summary.txt\", \"w\") as f:\n",
    "    f.write(f\"Mean Total Amount Spent: {mean_spent}\\n\")\n",
    "    f.write(f\"Median Total Amount Spent: {median_spent}\\n\")\n",
    "    f.write(f\"Standard Deviation of Total Amount Spent: {std_spent}\\n\\n\")\n",
    "\n",
    "    f.write(f\"Mean Total Items Purchased: {mean_items}\\n\")\n",
    "    f.write(f\"Median Total Items Purchased: {median_items}\\n\")\n",
    "    f.write(f\"Standard Deviation of Total Items Purchased: {std_items}\\n\\n\")\n"
   ]
  },
  {
   "cell_type": "markdown",
   "id": "7b53bd39",
   "metadata": {},
   "source": [
    "### 4. Customer Segmentation using K-means Clustering"
   ]
  },
  {
   "cell_type": "code",
   "execution_count": null,
   "id": "fe6a79c6",
   "metadata": {},
   "outputs": [],
   "source": [
    "\n",
    "# 4. Customer Segmentation using K-means Clustering\n",
    "# Select relevant features for clustering\n",
    "X = customer_df[[\"TotalAmountSpent\", \"Quantity\", \"DaysSinceLastPurchase\", \"AveragePurchaseValue\"]]\n",
    "\n",
    "# Apply K-means clustering\n",
    "kmeans = KMeans(n_clusters=3, random_state=42)\n",
    "customer_df[\"Segment\"] = kmeans.fit_predict(X)\n"
   ]
  },
  {
   "cell_type": "markdown",
   "id": "f0429bee",
   "metadata": {},
   "source": [
    "### 5. Visualization"
   ]
  },
  {
   "cell_type": "code",
   "execution_count": null,
   "id": "f66cb529",
   "metadata": {},
   "outputs": [],
   "source": [
    "\n",
    "# 5. Visualization\n",
    "# Scatter plot of TotalAmountSpent vs Quantity colored by segment\n",
    "plt.figure(figsize=(10, 6))\n",
    "sns.scatterplot(x=\"TotalAmountSpent\", y=\"Quantity\", hue=\"Segment\", data=customer_df, palette=\"Set2\")\n",
    "plt.title(\"Customer Segmentation based on Total Amount Spent and Quantity\")\n",
    "\n",
    "# Save the plot as an image\n",
    "plt.savefig(\"customer_segmentation_plot.png\")\n"
   ]
  },
  {
   "cell_type": "markdown",
   "id": "09e33fad",
   "metadata": {},
   "source": [
    "### 6. Customer Insights"
   ]
  },
  {
   "cell_type": "code",
   "execution_count": null,
   "id": "8164fab5",
   "metadata": {},
   "outputs": [],
   "source": [
    "\n",
    "# 6. Customer Insights\n",
    "segment_summary = customer_df.groupby(\"Segment\").agg({\n",
    "    \"TotalAmountSpent\": [\"mean\", \"median\"],\n",
    "    \"Quantity\": [\"mean\", \"median\"],\n",
    "    \"DaysSinceLastPurchase\": [\"mean\", \"median\"],\n",
    "    \"AveragePurchaseValue\": [\"mean\", \"median\"]\n",
    "})\n",
    "\n",
    "# Save segment insights to the text file\n",
    "with open(\"customer_segmentation_summary.txt\", \"a\") as f:\n",
    "    f.write(\"Segment Insights:\\n\")\n",
    "    f.write(segment_summary.to_string())\n",
    "\n",
    "# Show the plot (optional if you want to see it)\n",
    "# plt.show()\n"
   ]
  }
 ],
 "metadata": {},
 "nbformat": 4,
 "nbformat_minor": 5
}
